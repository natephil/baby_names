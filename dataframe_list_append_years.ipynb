{
 "cells": [
  {
   "cell_type": "code",
   "execution_count": 1,
   "metadata": {},
   "outputs": [],
   "source": [
    "import pandas as pd\n",
    "import numpy as np\n",
    "import matplotlib.pyplot as plt\n",
    "%matplotlib inline\n",
    "import matplotlib.dates as mdates\n",
    "import matplotlib.cbook as cbook\n",
    "import matplotlib.cm as cm\n",
    "from collections import namedtuple\n",
    "import os\n",
    "import glob\n",
    "from pathlib import Path"
   ]
  },
  {
   "cell_type": "code",
   "execution_count": 2,
   "metadata": {},
   "outputs": [],
   "source": [
    "# let's try using pathlist instead of os\n",
    "p = Path('/Users/nathancahn/baby_names/0_data/names_national/')"
   ]
  },
  {
   "cell_type": "code",
   "execution_count": 3,
   "metadata": {},
   "outputs": [],
   "source": [
    "# puts every file in the directory into your variable\n",
    "# files = [file for file in p.iterdir() if file.is_file()]\n",
    "\n",
    "# put only .csv files into the variable from the specified directory\n",
    "files = [file for file in p.iterdir() if file.suffix == '.csv']\n",
    "\n",
    "# perform this print statement for a sanity check on your files variable to make sure they're all .csv files\n",
    "#for f in files:\n",
    "#    print(f.suffix)"
   ]
  },
  {
   "cell_type": "code",
   "execution_count": 4,
   "metadata": {},
   "outputs": [],
   "source": [
    "big_dataframe_list = [] # create an empty list to put your dataframes in\n",
    "\n",
    "for filename in files: # for each file in our specified directory\n",
    "    big_dataframe_list.append(pd.read_csv(filename, header=None)) # perform pd.read_csv() on that file and say header=None\n",
    "    "
   ]
  },
  {
   "cell_type": "code",
   "execution_count": 5,
   "metadata": {},
   "outputs": [],
   "source": [
    "# NOW WE HAVE OUR BIG_DATAFRAME_LIST WITH ALL OF OUR INTENDED FILES IN IT\n",
    "# LET'S TRY AND APPEND A NEW COLUMN IN EACH DATAFRAME WITH THE YEAR THOSE NAMES ARE FROM\n",
    "\n",
    "\n",
    "\n",
    "#with pd.option_context('display.max_rows', None, 'display.max_columns', None):\n",
    "#    big_dataframe.to_csv('/Users/nathancahn/baby_names/2_pipeline/tmp/')\n",
    "    # AttributeError: 'list' object has no attribute 'to_csv'\n",
    "\n",
    "    \n",
    "    \n",
    "# I couldn't convert the entire big_dataframe to a csv to see if it looked good \n",
    "# so I tried converting the list of dataframes to a dataframe (below)\n",
    "# this gave me an error telling me it's the wrong shape to do that with numpy\n",
    "\n",
    "\n",
    "\n",
    "#names_national_dataframe_all = pd.DataFrame(np.array(big_dataframe).reshape(3,3), columns = list(\"abc\"))\n",
    "#     ValueError: cannot copy sequence with size 2000 to array axis with dimension 3\n"
   ]
  },
  {
   "cell_type": "code",
   "execution_count": 6,
   "metadata": {},
   "outputs": [],
   "source": [
    "# here we are iterating over each separate dataframe in the big_dataframe_list\n",
    "# we are changing each column to be'name','gender','frequency'\n",
    "\n",
    "\n",
    "# we need range(len(...) to make it explicit that we want to iterate as many times as there are items in a sequence\n",
    "# without needing to use the items in the sequence for anything\n",
    "for i in range(len(big_dataframe_list)):\n",
    "    big_dataframe_list[i].columns=['name','gender','frequency']"
   ]
  },
  {
   "cell_type": "code",
   "execution_count": 61,
   "metadata": {},
   "outputs": [],
   "source": [
    "# I want to add a 'year' column to each dataframe\n",
    "# let's go through each dataframe and create a new column\n",
    "\n",
    "# let's call that column 'year' and set it equal\n",
    "# to the year variable we define inside the for loop\n",
    "# if we define it outside of the forloop, i won't mean anything\n",
    "for i in range(len(big_dataframe_list)):\n",
    "    year = 1880 + i\n",
    "    big_dataframe_list[i]['year'] = year"
   ]
  },
  {
   "cell_type": "code",
   "execution_count": null,
   "metadata": {
    "scrolled": true
   },
   "outputs": [],
   "source": []
  },
  {
   "cell_type": "code",
   "execution_count": null,
   "metadata": {},
   "outputs": [],
   "source": []
  },
  {
   "cell_type": "code",
   "execution_count": null,
   "metadata": {},
   "outputs": [],
   "source": []
  }
 ],
 "metadata": {
  "kernelspec": {
   "display_name": "Python 3",
   "language": "python",
   "name": "python3"
  },
  "language_info": {
   "codemirror_mode": {
    "name": "ipython",
    "version": 3
   },
   "file_extension": ".py",
   "mimetype": "text/x-python",
   "name": "python",
   "nbconvert_exporter": "python",
   "pygments_lexer": "ipython3",
   "version": "3.7.1"
  }
 },
 "nbformat": 4,
 "nbformat_minor": 2
}
